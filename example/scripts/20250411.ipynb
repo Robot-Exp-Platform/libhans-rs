{
 "cells": [
  {
   "cell_type": "markdown",
   "id": "d861d6cc",
   "metadata": {},
   "source": [
    "# 拉出机械臂测试"
   ]
  },
  {
   "cell_type": "code",
   "execution_count": null,
   "id": "ff12fcb3",
   "metadata": {},
   "outputs": [],
   "source": [
    "import libhans.libhans\n",
    "\n",
    "def wait_for_moving(robot: libhans.HansRobot):\n",
    "    while robot.is_moving():\n",
    "        pass\n",
    "    print(\"robot has reached\")\n",
    "\n",
    "robot = libhans.HansRobot()\n",
    "robot.connect(\"192.168.10.10\",10003)\n",
    "\n",
    "joint_0 = [-269.377,-15.481,-150.696,-162.461,219.601,-251.614]\n",
    "joint_1 = [-269.376,-76.614,-124.514,-162.461,219.601,-251.614]\n",
    "joint_2 = [-248.436,-72.951,-122.814,-166.151,206.827,-271.070]\n",
    "joint_3 = [-219.181,-80.247,-117.409,-163.388,236.073,-269.941]\n",
    "\n",
    "robot.set_speed(0.1)\n",
    "\n",
    "robot.move_joint(joint_1)\n",
    "robot.move_joint(joint_2)\n",
    "\n",
    "robot.set_speed(0.05)\n",
    "robot.move_joint(joint_3)\n",
    "robot.move_joint(joint_2)\n",
    "\n",
    "robot.set_speed(0.1)\n",
    "robot.move_joint(joint_1)"
   ]
  },
  {
   "cell_type": "markdown",
   "id": "d98efd23",
   "metadata": {},
   "source": [
    "# 螺栓机械臂测试"
   ]
  },
  {
   "cell_type": "code",
   "execution_count": null,
   "id": "c1be88f4",
   "metadata": {},
   "outputs": [
    {
     "ename": "",
     "evalue": "",
     "output_type": "error",
     "traceback": [
      "\u001b[1;31m运行具有“libhans_env (Python 3.10.16)”的单元格需要ipykernel包。\n",
      "\u001b[1;31m使用所需的包 <a href='command:jupyter.createPythonEnvAndSelectController'>创建 Python 环境</a>。\n",
      "\u001b[1;31m或使用命令“conda install -n libhans_env ipykernel --update-deps --force-reinstall”安装“ipykernel”"
     ]
    }
   ],
   "source": [
    "import libhans.libhans\n",
    "\n",
    "def wait_for_moving(robot: libhans.HansRobot):\n",
    "    while robot.is_moving():\n",
    "        pass\n",
    "    print(\"robot has reached\")\n",
    "\n",
    "robot = libhans.HansRobot()\n",
    "robot.connect(\"192.168.0.10\",10003)\n",
    "\n",
    "joint_0 = [-92.505,-104.110,111.576,-90.333,-90.101,211.045]\n",
    "joint_1 = [-135.696,-87.583,86.027,-90.034,-89.241,220.155]\n",
    "joint_2 = [-135.696,-87.583,86.027,-90.034,-89.241,220.155]\n",
    "joint_3 = [-135.696,-87.602,87.162,-91.151,-89.242,220.154]\n",
    "\n",
    "robot.set_speed(0.05)\n",
    "robot.move_joint(joint_2)\n",
    "\n",
    "robot.set_speed(0.03)\n",
    "robot.move_joint(joint_3)\n",
    "robot.move_joint(joint_2)\n",
    "\n",
    "robot.set_speed(0.1)\n",
    "robot.move_joint(joint_1)"
   ]
  }
 ],
 "metadata": {
  "kernelspec": {
   "display_name": "libhans_env",
   "language": "python",
   "name": "python3"
  },
  "language_info": {
   "name": "python",
   "version": "3.10.16"
  }
 },
 "nbformat": 4,
 "nbformat_minor": 5
}
